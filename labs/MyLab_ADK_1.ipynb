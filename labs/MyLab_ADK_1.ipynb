{
  "cells": [
    {
      "cell_type": "markdown",
      "metadata": {
        "id": "3fFrS6IVQgy1"
      },
      "source": [
        "# 🚀 Welcome to Your ADK Adventure - Tools & Memory! 🚀"
      ]
    },
    {
      "cell_type": "markdown",
      "metadata": {
        "id": "tGrfKE0yQbvn"
      },
      "source": [
        "Part 0: Setup & Authentication 🔑"
      ]
    },
    {
      "cell_type": "code",
      "execution_count": 1,
      "metadata": {
        "colab": {
          "base_uri": "https://localhost:8080/"
        },
        "id": "1aDH0UbRRGbU",
        "outputId": "d688cd6a-b120-4903-8931-838dbd065d43"
      },
      "outputs": [
        {
          "name": "stdout",
          "output_type": "stream",
          "text": [
            "✅ All libraries are ready to go!\n"
          ]
        },
        {
          "name": "stderr",
          "output_type": "stream",
          "text": [
            "/home/oem/Repos/CursoLLM/venv/lib/python3.12/site-packages/pydantic/_internal/_fields.py:198: UserWarning: Field name \"config_type\" in \"SequentialAgent\" shadows an attribute in parent \"BaseAgent\"\n",
            "  warnings.warn(\n"
          ]
        }
      ],
      "source": [
        "!pip install google-adk google-generativeai -q\n",
        "\n",
        "# --- Import all necessary libraries for our entire adventure ---\n",
        "import os\n",
        "import re\n",
        "import asyncio\n",
        "from IPython.display import display, Markdown\n",
        "import google.generativeai as genai\n",
        "from google.adk.agents import Agent\n",
        "from google.adk.tools import google_search\n",
        "from google.adk.runners import Runner\n",
        "from google.adk.sessions import InMemorySessionService, Session\n",
        "from google.genai.types import Content, Part\n",
        "from getpass import getpass\n",
        "\n",
        "print(\"✅ All libraries are ready to go!\")"
      ]
    },
    {
      "cell_type": "code",
      "execution_count": 2,
      "metadata": {
        "colab": {
          "base_uri": "https://localhost:8080/"
        },
        "id": "p6calzRXSUH0",
        "outputId": "76dd5cde-7307-4270-f91f-2f6de209856b"
      },
      "outputs": [
        {
          "name": "stdout",
          "output_type": "stream",
          "text": [
            "✅ API Key configured successfully! Let the fun begin.\n"
          ]
        }
      ],
      "source": [
        "api_key = getpass('Enter your Google API Key: ')\n",
        "\n",
        "genai.configure(api_key=api_key)\n",
        "\n",
        "os.environ['GOOGLE_API_KEY'] = api_key\n",
        "\n",
        "genai.configure(api_key=api_key)\n",
        "print(\"✅ API Key configured successfully! Let the fun begin.\")"
      ]
    },
    {
      "cell_type": "code",
      "execution_count": 7,
      "metadata": {
        "colab": {
          "base_uri": "https://localhost:8080/"
        },
        "id": "BW8DU0lbTYk8",
        "outputId": "f3ee28a9-4a03-4926-fc9c-fca89cbc3207"
      },
      "outputs": [
        {
          "name": "stdout",
          "output_type": "stream",
          "text": [
            "🧞 Agent 'weekend_trip_agent' is created and ready for adventure!\n"
          ]
        }
      ],
      "source": [
        "# -- Agent Definition\n",
        "\n",
        "# This function creates a new AI agent called \"weekend_trip_agent\"\n",
        "def create_weekend_trip_agent():\n",
        "  \"\"\"Create the Spontaneous Day Trip Generator agent\"\"\"\n",
        "  return Agent(\n",
        "      name=\"weekend_trip_agent\", # Internal name of the agent\n",
        "      model=\"gemini-2.5-flash\",  #The LLM powering the agent (fast + cheap)\n",
        "      description=\"Agent specialized in generating spontaneous full-weekend itineraries based on mood, interests, and budget.\",\n",
        "      instruction=\"\"\"\n",
        "        You are the \"Spontaneous Weekend Trip\" Generator 🧳 – a specialized AI assistant that creates engaging full-weekend itineraries.\n",
        "\n",
        "            Your Mission:\n",
        "            Transform a simple mood or interest into a complete 2-day or 3-day weekend trip, with real-time details, while respecting a budget.\n",
        "\n",
        "            Guidelines:\n",
        "            1. **Budget-Aware**: Pay close attention to budget hints like 'cheap', 'affordable', or 'splurge'. Use Google Search to find activities (free museums, parks, paid attractions) that match the user's budget.\n",
        "            2. **Weekend Structure**: Create plans for each day (e.g., Saturday and Sunday), dividing them into morning, afternoon, and evening.\n",
        "            3. **Real-Time Focus**: Search for current operating hours and special events.\n",
        "            4. **Mood Matching**: Align suggestions with the requested mood (adventurous, relaxing, artsy, etc.).\n",
        "\n",
        "        RETURN the itinerary in MARKDOWN FORMAT with day labels (e.g., **Friday**, **Saturday**, **Sunday**) and time blocks with specific venue names.\n",
        "       \"\"\",\n",
        "      tools=[google_search]\n",
        "  )\n",
        "weekend_trip_agent = create_weekend_trip_agent()\n",
        "print(f\"🧞 Agent '{weekend_trip_agent.name}' is created and ready for adventure!\")"
      ]
    },
    {
      "cell_type": "code",
      "execution_count": 8,
      "metadata": {
        "id": "-vHIae6jV7qQ"
      },
      "outputs": [],
      "source": [
        "# --- A Helper Function to Run Our Agents ---\n",
        "async def run_agent_query(agent: Agent, query: str, session: Session, user_id: str, is_router: bool = False):\n",
        "    \"\"\"Initializes a runner and executes a query for a given agent and session.\"\"\"\n",
        "    print(f\"\\n🚀 Running query for agent: '{agent.name}' in session: '{session.id}'...\")\n",
        "\n",
        "    runner = Runner(\n",
        "        agent=agent,\n",
        "        session_service=session_service,\n",
        "        app_name=agent.name\n",
        "    )\n",
        "\n",
        "    final_response = \"\"\n",
        "    try:\n",
        "        async for event in runner.run_async(\n",
        "            user_id=user_id,\n",
        "            session_id=session.id,\n",
        "            new_message=Content(parts=[Part(text=query)], role=\"user\")\n",
        "        ):\n",
        "            if not is_router:\n",
        "                # Let's see what the agent is thinking!\n",
        "                print(f\"EVENT: {event}\")\n",
        "            if event.is_final_response():\n",
        "                final_response = event.content.parts[0].text\n",
        "    except Exception as e:\n",
        "        final_response = f\"An error occurred: {e}\"\n",
        "\n",
        "    if not is_router:\n",
        "     print(\"\\n\" + \"-\"*50)\n",
        "     print(\"✅ Final Response:\")\n",
        "     display(Markdown(final_response))\n",
        "     print(\"-\"*50 + \"\\n\")\n",
        "\n",
        "    return final_response\n",
        "\n",
        "# --- Initialize our Session Service ---\n",
        "# This one service will manage all the different sessions in our notebook.\n",
        "\n",
        "session_service = InMemorySessionService()\n",
        "my_user_id = \"adk_adventurer_001\"\n"
      ]
    },
    {
      "cell_type": "markdown",
      "metadata": {
        "id": "7DizUqkrY0Wd"
      },
      "source": [
        "🧠 Explanation: What does this function do?\n",
        "\n",
        "This function is responsible for running a user query through a specific agent in a session and then showing the agent's final response nicely formatted in Markdown. It helps us see not only the final answer, but also how the agent \"thinks\" step by step.\n",
        "\n",
        "🔑 Key Concepts:\n",
        "\n",
        "🏃‍♀️ Runner\n",
        "The Runner is the engine that manages the conversation between the user and the agent. It handles the entire flow: sending the question, tracking the steps the agent takes (called events), and collecting the final answer.\n",
        "\n",
        "🔄 Async Event Loop\n",
        "The runner.run_async(...) function returns a stream of asynchronous events.\n",
        "Each event represents something the agent is doing — like thinking, calling a tool, or responding.\n",
        "The line async for event in runner.run_async(...) loops through each of these events in real time, as they happen.\n",
        "\n",
        "This lets us follow the agent’s reasoning step by step.\n",
        "Think of it like watching the agent \"work things out\" before answering.\n",
        "\n",
        "👀 is_router flag\n",
        "This optional flag controls whether we want to print the internal steps (events) of the agent.\n",
        "\n",
        "When is_router = False (default), we print each event — useful when learning or debugging.\n",
        "\n",
        "When is_router = True, we hide those steps. This is useful when an agent is being used as a tool by another agent (like a sub-agent), and we don’t want to clutter the logs.\n",
        "\n",
        "✅ Final Output\n",
        "The agent eventually sends a special event called a final response.\n",
        "When that happens, we extract just the final message and display it using Markdown (to look nice in notebooks).\n",
        "\n",
        "🧪 Why is this useful?\n",
        "This pattern is great for testing and learning how agents behave.\n",
        "It gives us insight into the \"thinking process\" of the model, not just the end result."
      ]
    },
    {
      "cell_type": "code",
      "execution_count": null,
      "metadata": {
        "colab": {
          "base_uri": "https://localhost:8080/",
          "height": 1000
        },
        "id": "1WRqwTTkV9ct",
        "outputId": "90ced6b5-0939-4c6e-f399-7a3713234695"
      },
      "outputs": [
        {
          "name": "stdout",
          "output_type": "stream",
          "text": [
            "🗣️ User Query: 'Plan a relaxing and interesting weekend trip in Venecia, Italy. Keep it affordable!'\n",
            "\n",
            "🚀 Running query for agent: 'weekend_trip_agent' in session: '310b65c6-6e93-4a01-bc3f-6e0afd3f8055'...\n"
          ]
        }
      ],
      "source": [
        "# --- Let's test the Day Trip Genie! ---\n",
        "\n",
        "async def run_day_trip_genie():\n",
        "    # Create a new, single-use session for this query\n",
        "    day_trip_session = await session_service.create_session(\n",
        "        app_name=weekend_trip_agent.name,\n",
        "        user_id=my_user_id\n",
        "    )\n",
        "\n",
        "    # Note the new budget constraint in the query!\n",
        "    query = \"Plan a relaxing and interesting weekend trip in Venecia, Italy. Keep it affordable!\"\n",
        "    print(f\"🗣️ User Query: '{query}'\")\n",
        "\n",
        "    await run_agent_query(weekend_trip_agent, query, day_trip_session, my_user_id)\n",
        "\n",
        "await run_day_trip_genie()"
      ]
    }
  ],
  "metadata": {
    "colab": {
      "provenance": []
    },
    "kernelspec": {
      "display_name": "venv",
      "language": "python",
      "name": "python3"
    },
    "language_info": {
      "codemirror_mode": {
        "name": "ipython",
        "version": 3
      },
      "file_extension": ".py",
      "mimetype": "text/x-python",
      "name": "python",
      "nbconvert_exporter": "python",
      "pygments_lexer": "ipython3",
      "version": "3.12.3"
    }
  },
  "nbformat": 4,
  "nbformat_minor": 0
}
